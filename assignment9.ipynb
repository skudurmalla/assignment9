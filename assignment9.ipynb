{
 "cells": [
  {
   "cell_type": "markdown",
   "metadata": {},
   "source": [
    "1) How-to-count-distance-to-the-previous-zero\n",
    "For each value, count the difference back to the previous zero (or the start of the Series,\n",
    "whichever is closer)\n",
    "create a new column 'Y'\n",
    "Consider a DataFrame df where there is an integer column 'X'\n",
    "import pandas as pd\n",
    "df = pd.DataFrame({'X': [7, 2, 0, 3, 4, 2, 5, 0, 3, 4]})"
   ]
  },
  {
   "cell_type": "code",
   "execution_count": 179,
   "metadata": {},
   "outputs": [],
   "source": [
    "import numpy as np\n",
    "import pandas as pd"
   ]
  },
  {
   "cell_type": "code",
   "execution_count": 180,
   "metadata": {},
   "outputs": [
    {
     "name": "stdout",
     "output_type": "stream",
     "text": [
      "0    1\n",
      "1    2\n",
      "2    0\n",
      "3    1\n",
      "4    2\n",
      "5    3\n",
      "6    4\n",
      "7    0\n",
      "8    1\n",
      "9    2\n",
      "Name: y, dtype: int64\n"
     ]
    }
   ],
   "source": [
    "df = pd.DataFrame({'X': [7, 2, 0, 3, 4, 2, 5, 0, 3, 4]})\n",
    "y.cumsum()\n",
    "x = (df['X'] != 0).cumsum()\n",
    "y = x != x.shift()\n",
    "\n",
    "df['y']=y.groupby((y != y.shift()).cumsum()).cumsum().astype('int')\n",
    "print(df['y'])"
   ]
  },
  {
   "cell_type": "markdown",
   "metadata": {},
   "source": [
    "2) Create a DatetimeIndex that contains each business day of 2015 and use it to index a\n",
    "Series of random numbers."
   ]
  },
  {
   "cell_type": "code",
   "execution_count": 181,
   "metadata": {},
   "outputs": [
    {
     "name": "stdout",
     "output_type": "stream",
     "text": [
      "                   0\n",
      "2015-01-01  1.036911\n",
      "2015-01-02 -0.606359\n",
      "2015-01-05  0.392296\n",
      "2015-01-06 -1.329042\n",
      "2015-01-07  0.743367\n",
      "2015-01-08 -0.445852\n",
      "2015-01-09  0.643952\n",
      "2015-01-12  1.083518\n",
      "2015-01-13  0.399401\n",
      "2015-01-14  0.396736\n",
      "2015-01-15  0.420873\n",
      "2015-01-16 -1.037292\n",
      "2015-01-19 -0.111637\n",
      "2015-01-20 -0.549382\n",
      "2015-01-21  1.761623\n",
      "2015-01-22 -0.084776\n",
      "2015-01-23  1.159977\n",
      "2015-01-26 -0.828722\n",
      "2015-01-27 -1.555348\n",
      "2015-01-28 -0.180150\n",
      "2015-01-29  0.169674\n",
      "2015-01-30 -1.603107\n",
      "2015-02-02  1.572579\n",
      "2015-02-03  1.013730\n",
      "2015-02-04 -1.464370\n",
      "2015-02-05  0.048605\n",
      "2015-02-06 -0.603400\n",
      "2015-02-09 -0.888938\n",
      "2015-02-10 -0.205782\n",
      "2015-02-11  2.332196\n",
      "...              ...\n",
      "2015-11-20  0.036048\n",
      "2015-11-23  1.382535\n",
      "2015-11-24 -0.833766\n",
      "2015-11-25  1.140272\n",
      "2015-11-26  0.542599\n",
      "2015-11-27 -1.176094\n",
      "2015-11-30  0.197997\n",
      "2015-12-01  0.541505\n",
      "2015-12-02  0.474306\n",
      "2015-12-03  0.438577\n",
      "2015-12-04 -1.392481\n",
      "2015-12-07  1.114639\n",
      "2015-12-08 -0.867687\n",
      "2015-12-09  0.427688\n",
      "2015-12-10  1.131409\n",
      "2015-12-11  0.458638\n",
      "2015-12-14 -2.115863\n",
      "2015-12-15 -0.371582\n",
      "2015-12-16  0.447929\n",
      "2015-12-17 -0.468922\n",
      "2015-12-18 -0.851831\n",
      "2015-12-21  0.521972\n",
      "2015-12-22 -0.279731\n",
      "2015-12-23 -0.140208\n",
      "2015-12-24 -0.727439\n",
      "2015-12-25  0.305186\n",
      "2015-12-28  0.795671\n",
      "2015-12-29  0.703042\n",
      "2015-12-30 -0.062594\n",
      "2015-12-31 -0.338859\n",
      "\n",
      "[261 rows x 1 columns]\n"
     ]
    }
   ],
   "source": [
    "dates = pd.bdate_range('2015-01-01', '2015-12-31')\n",
    "s = pd.DataFrame(np.random.randn(dates.shape[0]), index=dates)\n",
    "print (s)"
   ]
  },
  {
   "cell_type": "markdown",
   "metadata": {},
   "source": [
    "3) Find the sum of the values in s for every Wednesday"
   ]
  },
  {
   "cell_type": "code",
   "execution_count": 182,
   "metadata": {
    "scrolled": false
   },
   "outputs": [
    {
     "data": {
      "text/plain": [
       "0    5.856218\n",
       "dtype: float64"
      ]
     },
     "execution_count": 182,
     "metadata": {},
     "output_type": "execute_result"
    }
   ],
   "source": [
    "s[dates.weekday==2].sum()"
   ]
  },
  {
   "cell_type": "markdown",
   "metadata": {},
   "source": [
    "4) Average For each calendar month"
   ]
  },
  {
   "cell_type": "code",
   "execution_count": 183,
   "metadata": {},
   "outputs": [
    {
     "data": {
      "text/html": [
       "<div>\n",
       "<style scoped>\n",
       "    .dataframe tbody tr th:only-of-type {\n",
       "        vertical-align: middle;\n",
       "    }\n",
       "\n",
       "    .dataframe tbody tr th {\n",
       "        vertical-align: top;\n",
       "    }\n",
       "\n",
       "    .dataframe thead th {\n",
       "        text-align: right;\n",
       "    }\n",
       "</style>\n",
       "<table border=\"1\" class=\"dataframe\">\n",
       "  <thead>\n",
       "    <tr style=\"text-align: right;\">\n",
       "      <th></th>\n",
       "      <th>0</th>\n",
       "    </tr>\n",
       "  </thead>\n",
       "  <tbody>\n",
       "    <tr>\n",
       "      <th>2015-01-31</th>\n",
       "      <td>-0.005606</td>\n",
       "    </tr>\n",
       "    <tr>\n",
       "      <th>2015-02-28</th>\n",
       "      <td>0.165721</td>\n",
       "    </tr>\n",
       "    <tr>\n",
       "      <th>2015-03-31</th>\n",
       "      <td>0.116765</td>\n",
       "    </tr>\n",
       "    <tr>\n",
       "      <th>2015-04-30</th>\n",
       "      <td>0.134948</td>\n",
       "    </tr>\n",
       "    <tr>\n",
       "      <th>2015-05-31</th>\n",
       "      <td>-0.072548</td>\n",
       "    </tr>\n",
       "    <tr>\n",
       "      <th>2015-06-30</th>\n",
       "      <td>0.063089</td>\n",
       "    </tr>\n",
       "    <tr>\n",
       "      <th>2015-07-31</th>\n",
       "      <td>-0.417517</td>\n",
       "    </tr>\n",
       "    <tr>\n",
       "      <th>2015-08-31</th>\n",
       "      <td>0.054866</td>\n",
       "    </tr>\n",
       "    <tr>\n",
       "      <th>2015-09-30</th>\n",
       "      <td>0.105031</td>\n",
       "    </tr>\n",
       "    <tr>\n",
       "      <th>2015-10-31</th>\n",
       "      <td>0.202856</td>\n",
       "    </tr>\n",
       "    <tr>\n",
       "      <th>2015-11-30</th>\n",
       "      <td>0.292460</td>\n",
       "    </tr>\n",
       "    <tr>\n",
       "      <th>2015-12-31</th>\n",
       "      <td>-0.011158</td>\n",
       "    </tr>\n",
       "  </tbody>\n",
       "</table>\n",
       "</div>"
      ],
      "text/plain": [
       "                   0\n",
       "2015-01-31 -0.005606\n",
       "2015-02-28  0.165721\n",
       "2015-03-31  0.116765\n",
       "2015-04-30  0.134948\n",
       "2015-05-31 -0.072548\n",
       "2015-06-30  0.063089\n",
       "2015-07-31 -0.417517\n",
       "2015-08-31  0.054866\n",
       "2015-09-30  0.105031\n",
       "2015-10-31  0.202856\n",
       "2015-11-30  0.292460\n",
       "2015-12-31 -0.011158"
      ]
     },
     "execution_count": 183,
     "metadata": {},
     "output_type": "execute_result"
    }
   ],
   "source": [
    "s.resample('M').mean()"
   ]
  },
  {
   "cell_type": "markdown",
   "metadata": {},
   "source": [
    "5) For each group of four consecutive calendar months in s, find the date on which the highest value occurred."
   ]
  },
  {
   "cell_type": "code",
   "execution_count": 184,
   "metadata": {},
   "outputs": [
    {
     "data": {
      "text/html": [
       "<div>\n",
       "<style scoped>\n",
       "    .dataframe tbody tr th:only-of-type {\n",
       "        vertical-align: middle;\n",
       "    }\n",
       "\n",
       "    .dataframe tbody tr th {\n",
       "        vertical-align: top;\n",
       "    }\n",
       "\n",
       "    .dataframe thead th {\n",
       "        text-align: right;\n",
       "    }\n",
       "</style>\n",
       "<table border=\"1\" class=\"dataframe\">\n",
       "  <thead>\n",
       "    <tr style=\"text-align: right;\">\n",
       "      <th></th>\n",
       "      <th>0</th>\n",
       "    </tr>\n",
       "  </thead>\n",
       "  <tbody>\n",
       "    <tr>\n",
       "      <th>2015-01-31</th>\n",
       "      <td>2015-01-21</td>\n",
       "    </tr>\n",
       "    <tr>\n",
       "      <th>2015-05-31</th>\n",
       "      <td>2015-03-19</td>\n",
       "    </tr>\n",
       "    <tr>\n",
       "      <th>2015-09-30</th>\n",
       "      <td>2015-09-21</td>\n",
       "    </tr>\n",
       "    <tr>\n",
       "      <th>2016-01-31</th>\n",
       "      <td>2015-10-15</td>\n",
       "    </tr>\n",
       "  </tbody>\n",
       "</table>\n",
       "</div>"
      ],
      "text/plain": [
       "                    0\n",
       "2015-01-31 2015-01-21\n",
       "2015-05-31 2015-03-19\n",
       "2015-09-30 2015-09-21\n",
       "2016-01-31 2015-10-15"
      ]
     },
     "execution_count": 184,
     "metadata": {},
     "output_type": "execute_result"
    }
   ],
   "source": [
    "s.groupby(pd.Grouper(freq='4M')).idxmax()"
   ]
  },
  {
   "cell_type": "code",
   "execution_count": null,
   "metadata": {},
   "outputs": [],
   "source": []
  },
  {
   "cell_type": "code",
   "execution_count": null,
   "metadata": {},
   "outputs": [],
   "source": []
  },
  {
   "cell_type": "code",
   "execution_count": null,
   "metadata": {},
   "outputs": [],
   "source": []
  }
 ],
 "metadata": {
  "kernelspec": {
   "display_name": "Python 3",
   "language": "python",
   "name": "python3"
  },
  "language_info": {
   "codemirror_mode": {
    "name": "ipython",
    "version": 3
   },
   "file_extension": ".py",
   "mimetype": "text/x-python",
   "name": "python",
   "nbconvert_exporter": "python",
   "pygments_lexer": "ipython3",
   "version": "3.5.5"
  }
 },
 "nbformat": 4,
 "nbformat_minor": 2
}
